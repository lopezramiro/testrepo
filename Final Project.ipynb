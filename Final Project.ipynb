{
 "cells": [
  {
   "cell_type": "code",
   "execution_count": null,
   "metadata": {},
   "outputs": [],
   "source": []
  },
  {
   "cell_type": "markdown",
   "metadata": {
    "collapsed": true
   },
   "source": [
    "### Exercise 2 - Create a markdown cell with the title of the notebook. (1 pt)\n",
    "\n",
    "#  Second Assignment Final Project Markdown Notebook"
   ]
  },
  {
   "cell_type": "markdown",
   "metadata": {},
   "source": [
    "### Exercise 3 - Create a markdown cell for an introduction. (1 pt)\n",
    "### Introduction\n",
    "This is an example of an introduction here we can use an interesting approach in the final project to review some of the material covered in this course."
   ]
  },
  {
   "cell_type": "markdown",
   "metadata": {},
   "source": [
    "### Exercise 4 - Create a markdown cell to list data science languages. (3 pts)\n",
    "The focus on this course will be based on 3 top languages:\n",
    "1. Python\n",
    "1. R\n",
    "1. SQL and others.\n"
   ]
  },
  {
   "cell_type": "markdown",
   "metadata": {},
   "source": [
    "### Exercise 5 - Create a markdown cell to list data science libraries. (3 pts)\n",
    "-  Scientific Computing Libraries in Python:\n",
    "1. Pandas\n",
    "1. Numpy\n",
    "and others."
   ]
  },
  {
   "cell_type": "markdown",
   "metadata": {},
   "source": [
    "### Exercise 6 - Create a markdown cell with a table of Data Science tools. (3 pts)\n",
    "\n",
    "### Data Science Tools:\n",
    "####      Opensource Tools:\n",
    " 1. Data Management\n",
    "     1. MySql\n",
    "     1. PostgreS\n",
    "     1. MongoDB\n",
    "     1. CouchDB\n",
    "     1. Cassandra\n",
    "     1. Hadoop HDFS\n",
    "     1. Ceph\n",
    "     1. Elasticsearch\n",
    "  1. Data Integration and Transformation\n",
    "     1. Apache Airflow\n",
    "     1. KubeFlow\n",
    "     1. Apache Kafka\n",
    "     1. Apache Nifi\n",
    "     1. Spark SQL\n",
    "     1. Node-RED\n",
    "  1. Data Visualizatioin Tools\n",
    "     1. Hue\n",
    "     1. Kibana\n",
    "     1. Apache Superset\n",
    "  1. Model Deployment tools\n",
    "     1. Apache PredictionIO\n",
    "     1. Seldon (can run on top of kubernetes and openshift)\n",
    "     1. mleap \n",
    "     1. TensorFlow Service and TensorFlow Lite for small devices, TensorFlowJS for Webbrowsers\n",
    "  1. Model Monitoring and Assesment tools \n",
    "     1. ModelDB\n",
    "     1. Prometheus\n",
    "     1. IBM AI Fairness 360 Tool and Adversarial Robustness 360\n",
    "     1. IBM AI Explainability 360\n",
    "  1. Code Asset Management (Version control)\n",
    "     1. git\n",
    "     1. GitHub\n",
    "     1. GitLab\n",
    "     1. Bitbucket\n",
    "  1. Data Asset Managent \n",
    "     1. Apache Atlas \n",
    "     1. ODP Egeria\n",
    "     1. Kylo\n",
    "  1. Development Environments\n",
    "     1. Jupyter and JupyterLab\n",
    "     1. Apache Zeppelin\n",
    "     1. RStudio\n",
    "     1. Spyder\n",
    "     1. Apache Spark\n",
    "     1. Apache Flink\n",
    "     1. Ray by riselab          \n",
    "  1. Execution Environments\n",
    "     1. Apache Spark \n",
    "     1. Apache Flink (stream data) \n",
    "     1. Ray rise lab\n",
    "  1. Fully Integrated Visual Tools\n",
    "     1. Knime Visual tool\n",
    "     1. Orange Visual tool\n",
    "           \n",
    "\n",
    "####       Comercial Tools:\n",
    "   1. Data Management\n",
    "      1. Oracle Database\n",
    "      1. Microsoft SQL Server\n",
    "      1. IBM DB2           \n",
    "   1. Data Integration and Transformation ETL Tools\n",
    "      1. Informatica \n",
    "      1. IBM InfoSphere DataStage\n",
    "      1. Talend\n",
    "      1. Microsoft  \n",
    "      1. Watson Studio Desktop (includes a component called Data Refinery)\n",
    "   1. Data Visualizatioin Tools (BI Tools)\n",
    "      1. Tableu\n",
    "      1. MS PowerBI\n",
    "      1. IBM Cognos Analytics\n",
    "      1. IBM Watson Studio Desktop\n",
    "   1. Model Building \n",
    "      1. SPSS Modeler\n",
    "      1. SAS Enterprise Miner\n",
    "      1. IBM Watson Studio Desktop            \n",
    "   1. Model Deployment tools\n",
    "      1. IBM SPSS Collaboration and Deployment Services           \n",
    "   1. Model Monitoring and Assesment tools \n",
    "      1. No major comercial tools and opensource is the first option           \n",
    "   1. Code Asset Management (Version control)\n",
    "      1. No major comercial tools and opensource is the first option           \n",
    "   1. Data Asset Managent also called Data Governance or Data Lineage\n",
    "      1. Informatica\n",
    "      1. IBM InfoSphere Information Governance Catalog           \n",
    "   1. Development Environments\n",
    "      1. IBM Watson Studio and Watson Studio Desktop           \n",
    "   1. Fully Integrated Visual Tools\n",
    "      1. Watson Studio\n",
    "      1. Watson OpenScale\n",
    "      1. H2O driverless AI \n",
    "####        Cloud Based Tools:\n",
    "   1. Data Management (SaaS)\n",
    "      1. Amazon DynamoDB json\n",
    "      1. Cloudant based on CouchDB\n",
    "      1. IBM DB2            \n",
    "   1. Data Integration and Transformation ETL Tools (ELT tools)\n",
    "      1. Informatica Cloud\n",
    "      1. IBM Data Refinery part of Watson Studio           \n",
    "   1. Data Visualizatioin Tools (BI Tools)\n",
    "      1. Datameer\n",
    "      1. IBM Cognos Analytics\n",
    "      1. IBM Data Refinery\n",
    "   1. Model Building \n",
    "      1. Watson Machine Learning\n",
    "      1. Google Cloud AI learning\n",
    "   1. Model Deployment tools\n",
    "      1. IBM SPSS Collaboration and Deployment Services  \n",
    "      1. IBM Watson Machine Learning \n",
    "   1. Model Monitoring and Assesment tools \n",
    "      1. Amazon SageMaker Model Monitor    \n",
    "      1. Watson OpenScale and Watson Studio\n",
    "   1. Code Asset Management (Version control)\n",
    "      1. No major comercial tools and opensource is the first option           \n",
    "   1. Data Asset Managent also called Data Governance or Data Lineage\n",
    "      1. Informatica\n",
    "      1. IBM InfoSphere Information Governance Catalog           \n",
    "   1. Development Environments\n",
    "      1. IBM Watson Studio and Watson Studio Desktop           \n",
    "   1. Fully Integrated Visual Tools\n",
    "       1. Watson Studio\n",
    "       1. Watson OpenScale\n",
    "       1. Microsoft Azure ML\n",
    "       1. H2O.ai\n",
    "           \n"
   ]
  },
  {
   "cell_type": "markdown",
   "metadata": {},
   "source": [
    "### Exercise 7 - Create a markdown cell introducing arithmetic expression examples. (1 pt)\n",
    "#### Python arithmetic operations:"
   ]
  },
  {
   "cell_type": "code",
   "execution_count": 22,
   "metadata": {},
   "outputs": [
    {
     "name": "stdout",
     "output_type": "stream",
     "text": [
      "Addition  5.5\n",
      "Multiplication 12.5\n"
     ]
    }
   ],
   "source": [
    "#  Exercise 8 - Create a code cell to multiply and add numbers.(2 pts)\n",
    "A=2.5\n",
    "B=5\n",
    "C=3\n",
    "print(\"Addition \", A + C)\n",
    "print(\"Multiplication\", B * A)\n",
    "      \n",
    "      "
   ]
  },
  {
   "cell_type": "code",
   "execution_count": 21,
   "metadata": {},
   "outputs": [
    {
     "name": "stdout",
     "output_type": "stream",
     "text": [
      "Hours 5\n",
      "Minutes 33\n"
     ]
    }
   ],
   "source": [
    "# Exercise 9 - Create a code cell to convert minutes to hours. (2 pts)\n",
    "minutesToConvert = 333\n",
    "print(\"Hours\", int(minutesToConvert/60) )\n",
    "print(\"Minutes\", minutesToConvert % 60)\n"
   ]
  },
  {
   "cell_type": "markdown",
   "metadata": {},
   "source": [
    "### Exercise 10 -Insert a markdown cell to list Objectives. (3 pts)\n",
    "***\n",
    "## OBJECTIVES:\n",
    "    Final Project\n",
    "***\n"
   ]
  },
  {
   "cell_type": "markdown",
   "metadata": {},
   "source": [
    "### Exercise 11 - Create a markdown cell to indicate the Author’s name. (2 pts)\n",
    "**Author Name**: Ramiro Lopez"
   ]
  },
  {
   "cell_type": "code",
   "execution_count": null,
   "metadata": {},
   "outputs": [],
   "source": []
  }
 ],
 "metadata": {
  "kernelspec": {
   "display_name": "Python 3.10",
   "language": "python",
   "name": "python3"
  },
  "language_info": {
   "codemirror_mode": {
    "name": "ipython",
    "version": 3
   },
   "file_extension": ".py",
   "mimetype": "text/x-python",
   "name": "python",
   "nbconvert_exporter": "python",
   "pygments_lexer": "ipython3",
   "version": "3.10.6"
  }
 },
 "nbformat": 4,
 "nbformat_minor": 1
}
